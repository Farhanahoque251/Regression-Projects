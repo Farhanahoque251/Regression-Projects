{
 "cells": [
  {
   "cell_type": "markdown",
   "id": "98387214",
   "metadata": {},
   "source": [
    "# Raynold Dataset Project"
   ]
  },
  {
   "cell_type": "markdown",
   "id": "8a5e1dcd",
   "metadata": {},
   "source": [
    "# #Author: FARHANA HOQUE"
   ]
  },
  {
   "cell_type": "code",
   "execution_count": 1,
   "id": "fe1d2a46",
   "metadata": {},
   "outputs": [],
   "source": [
    "# import necessary Libraries\n",
    "import pandas as pd\n",
    "import numpy as np\n",
    "import statsmodels.api as sm\n",
    "import matplotlib.pyplot as plt"
   ]
  },
  {
   "cell_type": "code",
   "execution_count": 2,
   "id": "d5cf431f",
   "metadata": {},
   "outputs": [
    {
     "name": "stdout",
     "output_type": "stream",
     "text": [
      "   Months Employed  Scales Sold\n",
      "0               41          275\n",
      "1              106          296\n",
      "2               76          317\n",
      "3              100          376\n",
      "4               22          162\n"
     ]
    }
   ],
   "source": [
    "# Load the Reynolds dataset\n",
    "dataset_reynolds = pd.read_excel(r\"F:\\ABP\\Raynold dataset Only.xlsx\")\n",
    "print(dataset_reynolds.head())"
   ]
  },
  {
   "cell_type": "code",
   "execution_count": 3,
   "id": "6969687e",
   "metadata": {},
   "outputs": [
    {
     "name": "stdout",
     "output_type": "stream",
     "text": [
      "                            OLS Regression Results                            \n",
      "==============================================================================\n",
      "Dep. Variable:            Scales Sold   R-squared:                       0.790\n",
      "Model:                            OLS   Adj. R-squared:                  0.774\n",
      "Method:                 Least Squares   F-statistic:                     48.95\n",
      "Date:                Tue, 03 Sep 2024   Prob (F-statistic):           9.40e-06\n",
      "Time:                        15:43:57   Log-Likelihood:                -78.431\n",
      "No. Observations:                  15   AIC:                             160.9\n",
      "Df Residuals:                      13   BIC:                             162.3\n",
      "Df Model:                           1                                         \n",
      "Covariance Type:            nonrobust                                         \n",
      "===================================================================================\n",
      "                      coef    std err          t      P>|t|      [0.025      0.975]\n",
      "-----------------------------------------------------------------------------------\n",
      "const             113.7453     20.813      5.465      0.000      68.781     158.710\n",
      "Months Employed     2.3675      0.338      6.996      0.000       1.636       3.099\n",
      "==============================================================================\n",
      "Omnibus:                        0.760   Durbin-Watson:                   2.296\n",
      "Prob(Omnibus):                  0.684   Jarque-Bera (JB):                0.634\n",
      "Skew:                           0.010   Prob(JB):                        0.729\n",
      "Kurtosis:                       1.993   Cond. No.                         102.\n",
      "==============================================================================\n",
      "\n",
      "Notes:\n",
      "[1] Standard Errors assume that the covariance matrix of the errors is correctly specified.\n"
     ]
    },
    {
     "name": "stderr",
     "output_type": "stream",
     "text": [
      "C:\\Users\\User\\anaconda3\\Lib\\site-packages\\scipy\\stats\\_stats_py.py:1736: UserWarning: kurtosistest only valid for n>=20 ... continuing anyway, n=15\n",
      "  warnings.warn(\"kurtosistest only valid for n>=20 ... continuing \"\n"
     ]
    }
   ],
   "source": [
    "# Fit a linear model between 'Months Employed' and 'Scales Sold'\n",
    "X_reynolds = sm.add_constant(dataset_reynolds['Months Employed'])\n",
    "y_reynolds = dataset_reynolds['Scales Sold']\n",
    "linear_model_reynolds = sm.OLS(y_reynolds, X_reynolds).fit()\n",
    "print(linear_model_reynolds.summary())"
   ]
  },
  {
   "cell_type": "code",
   "execution_count": 5,
   "id": "4e18358d",
   "metadata": {},
   "outputs": [
    {
     "data": {
      "text/plain": [
       "0     4120.189736\n",
       "1     4719.199665\n",
       "2      544.171201\n",
       "3      650.675945\n",
       "4       14.664971\n",
       "5       61.546365\n",
       "6     2706.112111\n",
       "7     4696.874799\n",
       "8      378.062613\n",
       "9        0.264266\n",
       "10     945.272699\n",
       "11     909.315032\n",
       "12    3714.910930\n",
       "13    6190.030960\n",
       "14     916.448703\n",
       "dtype: float64"
      ]
     },
     "execution_count": 5,
     "metadata": {},
     "output_type": "execute_result"
    }
   ],
   "source": [
    "# Calculate residuals and error squared\n",
    "predicted_scales_sold = linear_model_reynolds.predict(X_reynolds)\n",
    "error_reynolds = y_reynolds - predicted_scales_sold\n",
    "error_square_reynolds = error_reynolds**2\n",
    "error_square_reynolds"
   ]
  },
  {
   "cell_type": "code",
   "execution_count": 6,
   "id": "88ab9627",
   "metadata": {},
   "outputs": [
    {
     "name": "stdout",
     "output_type": "stream",
     "text": [
      "Mean Squared Error: 2037.8493330216504\n",
      "Root Mean Squared Error: 45.142544600649735\n"
     ]
    }
   ],
   "source": [
    "# Calculate and print mean squared error and root mean squared error\n",
    "mse_reynolds = error_square_reynolds.mean()\n",
    "rmse_reynolds = np.sqrt(mse_reynolds)\n",
    "print(\"Mean Squared Error:\", mse_reynolds)\n",
    "print(\"Root Mean Squared Error:\", rmse_reynolds)"
   ]
  },
  {
   "cell_type": "code",
   "execution_count": 7,
   "id": "4375961c",
   "metadata": {},
   "outputs": [
    {
     "data": {
      "image/png": "[encoded data removed]",
      "text/plain": [
       "<Figure size 640x480 with 1 Axes>"
      ]
     },
     "metadata": {},
     "output_type": "display_data"
    }
   ],
   "source": [
    "# Plot the residuals\n",
    "plt.scatter(dataset_reynolds['Months Employed'], error_reynolds)\n",
    "plt.title(\"Scatter plot of residuals\")\n",
    "plt.xlabel(\"Months Employed\")\n",
    "plt.ylabel(\"Residuals\")\n",
    "plt.show()"
   ]
  },
  {
   "cell_type": "code",
   "execution_count": 8,
   "id": "11e8ecd6",
   "metadata": {},
   "outputs": [
    {
     "name": "stdout",
     "output_type": "stream",
     "text": [
      "   Months Employed  Scales Sold  Months Employed Squared\n",
      "0               41          275                     1681\n",
      "1              106          296                    11236\n",
      "2               76          317                     5776\n",
      "3              100          376                    10000\n",
      "4               22          162                      484\n"
     ]
    }
   ],
   "source": [
    "# Create 'Months Employed Squared' and add it to the dataset\n",
    "dataset_reynolds['Months Employed Squared'] = dataset_reynolds['Months Employed'] ** 2\n",
    "print(dataset_reynolds.head())"
   ]
  },
  {
   "cell_type": "code",
   "execution_count": 9,
   "id": "3252b868",
   "metadata": {},
   "outputs": [
    {
     "name": "stdout",
     "output_type": "stream",
     "text": [
      "                            OLS Regression Results                            \n",
      "==============================================================================\n",
      "Dep. Variable:            Scales Sold   R-squared:                       0.901\n",
      "Model:                            OLS   Adj. R-squared:                  0.885\n",
      "Method:                 Least Squares   F-statistic:                     54.78\n",
      "Date:                Tue, 03 Sep 2024   Prob (F-statistic):           9.25e-07\n",
      "Time:                        15:45:01   Log-Likelihood:                -72.775\n",
      "No. Observations:                  15   AIC:                             151.5\n",
      "Df Residuals:                      12   BIC:                             153.7\n",
      "Df Model:                           2                                         \n",
      "Covariance Type:            nonrobust                                         \n",
      "===========================================================================================\n",
      "                              coef    std err          t      P>|t|      [0.025      0.975]\n",
      "-------------------------------------------------------------------------------------------\n",
      "const                      61.4299     20.574      2.986      0.011      16.602     106.258\n",
      "Months Employed             5.8198      0.970      6.001      0.000       3.707       7.933\n",
      "Months Employed Squared    -0.0310      0.008     -3.676      0.003      -0.049      -0.013\n",
      "==============================================================================\n",
      "Omnibus:                        3.137   Durbin-Watson:                   1.767\n",
      "Prob(Omnibus):                  0.208   Jarque-Bera (JB):                1.225\n",
      "Skew:                          -0.211   Prob(JB):                        0.542\n",
      "Kurtosis:                       1.665   Cond. No.                     1.31e+04\n",
      "==============================================================================\n",
      "\n",
      "Notes:\n",
      "[1] Standard Errors assume that the covariance matrix of the errors is correctly specified.\n",
      "[2] The condition number is large, 1.31e+04. This might indicate that there are\n",
      "strong multicollinearity or other numerical problems.\n"
     ]
    },
    {
     "name": "stderr",
     "output_type": "stream",
     "text": [
      "C:\\Users\\User\\anaconda3\\Lib\\site-packages\\scipy\\stats\\_stats_py.py:1736: UserWarning: kurtosistest only valid for n>=20 ... continuing anyway, n=15\n",
      "  warnings.warn(\"kurtosistest only valid for n>=20 ... continuing \"\n"
     ]
    }
   ],
   "source": [
    "# Fit a new linear model including the squared term\n",
    "X_reynolds_2 = dataset_reynolds[['Months Employed', 'Months Employed Squared']]\n",
    "X_reynolds_2 = sm.add_constant(X_reynolds_2)\n",
    "linear_model_reynolds_2 = sm.OLS(y_reynolds, X_reynolds_2).fit()\n",
    "print(linear_model_reynolds_2.summary())"
   ]
  },
  {
   "cell_type": "code",
   "execution_count": 11,
   "id": "edafba75",
   "metadata": {},
   "outputs": [
    {
     "data": {
      "text/plain": [
       "0      733.625530\n",
       "1     1149.524140\n",
       "2       58.111526\n",
       "3     1822.119728\n",
       "4      155.172356\n",
       "5      538.141934\n",
       "6     1220.219023\n",
       "7      301.307516\n",
       "8     3092.078125\n",
       "9     1813.364840\n",
       "10     465.267718\n",
       "11     219.102566\n",
       "12     797.066679\n",
       "13    1218.535326\n",
       "14     794.585375\n",
       "dtype: float64"
      ]
     },
     "execution_count": 11,
     "metadata": {},
     "output_type": "execute_result"
    }
   ],
   "source": [
    "# Calculate residuals for the new model and error squared\n",
    "predicted_scales_sold_2 = linear_model_reynolds_2.predict(X_reynolds_2)\n",
    "error_reynolds_2 = y_reynolds - predicted_scales_sold_2\n",
    "error_square_reynolds_2 = error_reynolds_2**2\n",
    "error_square_reynolds_2"
   ]
  },
  {
   "cell_type": "code",
   "execution_count": 12,
   "id": "6925c8d8",
   "metadata": {},
   "outputs": [
    {
     "name": "stdout",
     "output_type": "stream",
     "text": [
      "Mean Squared Error (with squared term): 958.5481588505646\n",
      "Root Mean Squared Error (with squared term): 30.960428919034126\n"
     ]
    }
   ],
   "source": [
    "# Calculate and print mean squared error and root mean squared error for the new model\n",
    "mse_reynolds_2 = error_square_reynolds_2.mean()\n",
    "rmse_reynolds_2 = np.sqrt(mse_reynolds_2)\n",
    "print(\"Mean Squared Error (with squared term):\", mse_reynolds_2)\n",
    "print(\"Root Mean Squared Error (with squared term):\", rmse_reynolds_2)"
   ]
  },
  {
   "cell_type": "code",
   "execution_count": 13,
   "id": "15a35101",
   "metadata": {},
   "outputs": [
    {
     "data": {
      "image/png": "[encoded data removed]",
      "text/plain": [
       "<Figure size 640x480 with 1 Axes>"
      ]
     },
     "metadata": {},
     "output_type": "display_data"
    }
   ],
   "source": [
    "# Plot the residuals for the new model\n",
    "plt.scatter(dataset_reynolds['Months Employed'], error_reynolds_2)\n",
    "plt.title(\"Scatter plot of residuals (with squared term)\")\n",
    "plt.xlabel(\"Months Employed\")\n",
    "plt.ylabel(\"Residuals\")\n",
    "plt.show()"
   ]
  },
  {
   "cell_type": "markdown",
   "id": "5503611b",
   "metadata": {},
   "source": [
    "# !Done"
   ]
  }
 ],
 "metadata": {
  "kernelspec": {
   "display_name": "Python (rdkit_env)",
   "language": "python",
   "name": "rdkit_env"
  },
  "language_info": {
   "codemirror_mode": {
    "name": "ipython",
    "version": 3
   },
   "file_extension": ".py",
   "mimetype": "text/x-python",
   "name": "python",
   "nbconvert_exporter": "python",
   "pygments_lexer": "ipython3",
   "version": "3.11.4"
  }
 },
 "nbformat": 4,
 "nbformat_minor": 5
}
