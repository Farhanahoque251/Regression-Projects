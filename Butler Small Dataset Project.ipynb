{
 "cells": [
  {
   "cell_type": "markdown",
   "id": "116eace0",
   "metadata": {},
   "source": [
    "# Butler small Project"
   ]
  },
  {
   "cell_type": "markdown",
   "id": "a60735b8",
   "metadata": {},
   "source": [
    "# Author:FARHANA HOQUE"
   ]
  },
  {
   "cell_type": "code",
   "execution_count": 1,
   "id": "04c47eee",
   "metadata": {},
   "outputs": [],
   "source": [
    "import os\n",
    "import pandas as pd\n",
    "import statsmodels.api as sm\n",
    "import matplotlib.pyplot as plt\n",
    "import numpy as np"
   ]
  },
  {
   "cell_type": "raw",
   "id": "71166aeb",
   "metadata": {},
   "source": [
    "# Set the working directory\n",
    "os.chdir(\"C:\\\\Users\\\\noman\\\\My Drive\\\\ABP\\\\ABP_MasterFiles\\\\datafiles\")"
   ]
  },
  {
   "cell_type": "code",
   "execution_count": 4,
   "id": "f84fd0aa",
   "metadata": {},
   "outputs": [
    {
     "name": "stdout",
     "output_type": "stream",
     "text": [
      "   Assignment  Miles  Time\n",
      "0           1    100   9.3\n",
      "1           2     50   4.8\n",
      "2           3    100   8.9\n",
      "3           4    100   6.5\n",
      "4           5     50   4.2\n"
     ]
    }
   ],
   "source": [
    "#### Butler small dataset #####\n",
    "# Read Butler_smallDataSet.xlsx\n",
    "dataset = pd.read_excel(r\"F:\\ABP\\Butler small Dataset only.xlsx\")\n",
    "print(dataset.head())"
   ]
  },
  {
   "cell_type": "code",
   "execution_count": 5,
   "id": "bfc66778",
   "metadata": {
    "scrolled": true
   },
   "outputs": [
    {
     "name": "stdout",
     "output_type": "stream",
     "text": [
      "<statsmodels.regression.linear_model.RegressionResultsWrapper object at 0x000002212A7F6F90>\n",
      "                            OLS Regression Results                            \n",
      "==============================================================================\n",
      "Dep. Variable:                   Time   R-squared:                       0.664\n",
      "Model:                            OLS   Adj. R-squared:                  0.622\n",
      "Method:                 Least Squares   F-statistic:                     15.81\n",
      "Date:                Tue, 03 Sep 2024   Prob (F-statistic):            0.00408\n",
      "Time:                        14:45:52   Log-Likelihood:                -13.092\n",
      "No. Observations:                  10   AIC:                             30.18\n",
      "Df Residuals:                       8   BIC:                             30.79\n",
      "Df Model:                           1                                         \n",
      "Covariance Type:            nonrobust                                         \n",
      "==============================================================================\n",
      "                 coef    std err          t      P>|t|      [0.025      0.975]\n",
      "------------------------------------------------------------------------------\n",
      "const          1.2739      1.401      0.909      0.390      -1.956       4.504\n",
      "Miles          0.0678      0.017      3.977      0.004       0.028       0.107\n",
      "==============================================================================\n",
      "Omnibus:                        0.694   Durbin-Watson:                   1.723\n",
      "Prob(Omnibus):                  0.707   Jarque-Bera (JB):                0.623\n",
      "Skew:                          -0.333   Prob(JB):                        0.732\n",
      "Kurtosis:                       1.974   Cond. No.                         363.\n",
      "==============================================================================\n",
      "\n",
      "Notes:\n",
      "[1] Standard Errors assume that the covariance matrix of the errors is correctly specified.\n"
     ]
    },
    {
     "name": "stderr",
     "output_type": "stream",
     "text": [
      "C:\\Users\\User\\anaconda3\\Lib\\site-packages\\scipy\\stats\\_stats_py.py:1736: UserWarning: kurtosistest only valid for n>=20 ... continuing anyway, n=10\n",
      "  warnings.warn(\"kurtosistest only valid for n>=20 ... continuing \"\n"
     ]
    }
   ],
   "source": [
    "# Linear regression model\n",
    "X = dataset['Miles']\n",
    "y = dataset['Time']\n",
    "\n",
    "# Add a constant to the independent variable for the intercept\n",
    "X = sm.add_constant(X)\n",
    "\n",
    "linear_model = sm.OLS(y, X).fit()\n",
    "print(linear_model)\n",
    "print(linear_model.summary())"
   ]
  },
  {
   "cell_type": "code",
   "execution_count": 6,
   "id": "43db682f",
   "metadata": {},
   "outputs": [
    {
     "name": "stdout",
     "output_type": "stream",
     "text": [
      "0    8.056522\n",
      "1    4.665217\n",
      "2    8.056522\n",
      "3    8.056522\n",
      "4    4.665217\n",
      "5    6.700000\n",
      "6    6.360870\n",
      "7    5.682609\n",
      "8    7.378261\n",
      "9    7.378261\n",
      "dtype: float64\n"
     ]
    }
   ],
   "source": [
    "# Predict Time based on linear_model\n",
    "predicted_time = linear_model.predict(X)\n",
    "print(predicted_time)"
   ]
  },
  {
   "cell_type": "code",
   "execution_count": 7,
   "id": "d21d7464",
   "metadata": {},
   "outputs": [
    {
     "name": "stdout",
     "output_type": "stream",
     "text": [
      "0    1.546238\n",
      "1    0.018166\n",
      "2    0.711456\n",
      "3    2.422760\n",
      "4    0.216427\n",
      "5    0.250000\n",
      "6    1.079792\n",
      "7    0.100737\n",
      "8    0.049168\n",
      "9    1.633951\n",
      "dtype: float64\n"
     ]
    }
   ],
   "source": [
    "# Calculate error and error squared\n",
    "error = dataset['Time'] - predicted_time\n",
    "error_square = error**2\n",
    "print(error_square)"
   ]
  },
  {
   "cell_type": "code",
   "execution_count": 9,
   "id": "24ee6147",
   "metadata": {},
   "outputs": [
    {
     "name": "stdout",
     "output_type": "stream",
     "text": [
      "0.8028695652173916\n",
      "0.8960298908057652\n"
     ]
    }
   ],
   "source": [
    "import numpy as np\n",
    "\n",
    "mean_error_square = np.mean(error_square)\n",
    "rmse = np.sqrt(mean_error_square)\n",
    "\n",
    "print(mean_error_square)\n",
    "print(rmse)\n"
   ]
  },
  {
   "cell_type": "code",
   "execution_count": 10,
   "id": "bec45d82",
   "metadata": {},
   "outputs": [
    {
     "data": {
      "image/png": "[encoded data removed]",
      "text/plain": [
       "<Figure size 640x480 with 1 Axes>"
      ]
     },
     "metadata": {},
     "output_type": "display_data"
    }
   ],
   "source": [
    "import matplotlib.pyplot as plt\n",
    "\n",
    "# Plot scatter plot of residuals\n",
    "plt.scatter(dataset['Miles'], error)\n",
    "plt.title(\"Scatter plot of residuals\")\n",
    "plt.xlabel(\"Miles\")\n",
    "plt.ylabel(\"Residuals\")\n",
    "plt.show()"
   ]
  },
  {
   "cell_type": "code",
   "execution_count": null,
   "id": "51a50aff",
   "metadata": {},
   "outputs": [],
   "source": []
  }
 ],
 "metadata": {
  "kernelspec": {
   "display_name": "Python 3 (ipykernel)",
   "language": "python",
   "name": "python3"
  },
  "language_info": {
   "codemirror_mode": {
    "name": "ipython",
    "version": 3
   },
   "file_extension": ".py",
   "mimetype": "text/x-python",
   "name": "python",
   "nbconvert_exporter": "python",
   "pygments_lexer": "ipython3",
   "version": "3.11.4"
  }
 },
 "nbformat": 4,
 "nbformat_minor": 5
}
